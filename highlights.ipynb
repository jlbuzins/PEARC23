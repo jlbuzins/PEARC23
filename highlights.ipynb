{
 "cells": [
  {
   "cell_type": "markdown",
   "id": "6a72077a-3775-4a3b-bc1e-cb959e1830bd",
   "metadata": {},
   "source": [
    "Flow Examples:\n",
    "===\n",
    "w055\n",
    "===\n",
    "<img height=100 src=\"../figs/w055/t0066.png\">\n",
    "<img height=100 src=\"../figs/w055/t0170.png\">\n",
    "\n",
    "w085\n",
    "===\n",
    "<img height=100 src=\"../figs/w085/t0080.png\">\n",
    "<img height=100 src=\"../figs/w085/t0100.png\">\n",
    "\n",
    "w053\n",
    "===\n",
    "<img height=100 src=\"../figs/w053/t0110.png\">\n",
    "<img height=100 src=\"../figs/w053/t0120.png\">\n",
    "<img height=100 src=\"../figs/w053/t0130.png\">\n",
    "\n",
    "w089\n",
    "===\n",
    "<img height=100 src=\"../figs/w089/t0124.png\">\n",
    "\n",
    "w150\n",
    "===\n",
    "<img height=100 src=\"../figs/w150/t0198.png\">\n",
    "\n",
    "w105\n",
    "===\n",
    "<img height=100 src=\"../figs/w105/t0105.png\">\n",
    "\n",
    "w104\n",
    "===\n",
    "<img height=100 src=\"../figs/w104/t0140.png\">\n",
    "<img height=100 src=\"../figs/w104/t0150.png\">\n",
    "<img height=100 src=\"../figs/w104/t0160.png\">\n",
    "\n",
    "w102\n",
    "===\n",
    "<img height=100 src=\"../figs/w102/t0075.png\">\n"
   ]
  },
  {
   "cell_type": "code",
   "execution_count": null,
   "id": "8f3765f2-a059-4a1d-9a24-946c1109f540",
   "metadata": {},
   "outputs": [],
   "source": []
  }
 ],
 "metadata": {
  "kernelspec": {
   "display_name": "scicomp",
   "language": "python",
   "name": "scicomp"
  },
  "language_info": {
   "codemirror_mode": {
    "name": "ipython",
    "version": 3
   },
   "file_extension": ".py",
   "mimetype": "text/x-python",
   "name": "python",
   "nbconvert_exporter": "python",
   "pygments_lexer": "ipython3",
   "version": "3.11.0"
  }
 },
 "nbformat": 4,
 "nbformat_minor": 5
}
